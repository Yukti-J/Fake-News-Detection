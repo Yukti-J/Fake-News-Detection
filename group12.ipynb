{
  "nbformat": 4,
  "nbformat_minor": 0,
  "metadata": {
    "colab": {
      "provenance": []
    },
    "kernelspec": {
      "name": "python3",
      "display_name": "Python 3"
    },
    "language_info": {
      "name": "python"
    }
  },
  "cells": [
    {
      "cell_type": "markdown",
      "source": [
        "# Importing the modules"
      ],
      "metadata": {
        "id": "QxPtFLpQEMiv"
      }
    },
    {
      "cell_type": "code",
      "execution_count": null,
      "metadata": {
        "id": "bg_V8EbmNOlz"
      },
      "outputs": [],
      "source": [
        "import numpy as np\n",
        "import pandas as pd\n",
        "import re                       \n",
        "import csv\n",
        "from nltk.corpus import stopwords\n",
        "from nltk.stem.porter import PorterStemmer\n",
        "from sklearn.feature_extraction.text import TfidfVectorizer\n",
        "from sklearn.model_selection import train_test_split\n",
        "from sklearn.linear_model import LogisticRegression\n",
        "from sklearn.metrics import accuracy_score"
      ]
    },
    {
      "cell_type": "code",
      "source": [
        "import nltk\n",
        "nltk.download('stopwords')"
      ],
      "metadata": {
        "colab": {
          "base_uri": "https://localhost:8080/"
        },
        "id": "D7xD84cCNVoQ",
        "outputId": "533ab8dd-be0f-43f8-9a2c-a6fc70bad39f"
      },
      "execution_count": null,
      "outputs": [
        {
          "output_type": "stream",
          "name": "stderr",
          "text": [
            "[nltk_data] Downloading package stopwords to /root/nltk_data...\n",
            "[nltk_data]   Unzipping corpora/stopwords.zip.\n"
          ]
        },
        {
          "output_type": "execute_result",
          "data": {
            "text/plain": [
              "True"
            ]
          },
          "metadata": {},
          "execution_count": 2
        }
      ]
    },
    {
      "cell_type": "markdown",
      "source": [
        "# stopwords"
      ],
      "metadata": {
        "id": "0Bq75LiTEQ36"
      }
    },
    {
      "cell_type": "code",
      "source": [
        "print(stopwords.words('english'))"
      ],
      "metadata": {
        "colab": {
          "base_uri": "https://localhost:8080/"
        },
        "id": "qFGJHmIvNjqK",
        "outputId": "6bc61e41-81a5-4fdb-f6e2-ca142c1913f8"
      },
      "execution_count": null,
      "outputs": [
        {
          "output_type": "stream",
          "name": "stdout",
          "text": [
            "['i', 'me', 'my', 'myself', 'we', 'our', 'ours', 'ourselves', 'you', \"you're\", \"you've\", \"you'll\", \"you'd\", 'your', 'yours', 'yourself', 'yourselves', 'he', 'him', 'his', 'himself', 'she', \"she's\", 'her', 'hers', 'herself', 'it', \"it's\", 'its', 'itself', 'they', 'them', 'their', 'theirs', 'themselves', 'what', 'which', 'who', 'whom', 'this', 'that', \"that'll\", 'these', 'those', 'am', 'is', 'are', 'was', 'were', 'be', 'been', 'being', 'have', 'has', 'had', 'having', 'do', 'does', 'did', 'doing', 'a', 'an', 'the', 'and', 'but', 'if', 'or', 'because', 'as', 'until', 'while', 'of', 'at', 'by', 'for', 'with', 'about', 'against', 'between', 'into', 'through', 'during', 'before', 'after', 'above', 'below', 'to', 'from', 'up', 'down', 'in', 'out', 'on', 'off', 'over', 'under', 'again', 'further', 'then', 'once', 'here', 'there', 'when', 'where', 'why', 'how', 'all', 'any', 'both', 'each', 'few', 'more', 'most', 'other', 'some', 'such', 'no', 'nor', 'not', 'only', 'own', 'same', 'so', 'than', 'too', 'very', 's', 't', 'can', 'will', 'just', 'don', \"don't\", 'should', \"should've\", 'now', 'd', 'll', 'm', 'o', 're', 've', 'y', 'ain', 'aren', \"aren't\", 'couldn', \"couldn't\", 'didn', \"didn't\", 'doesn', \"doesn't\", 'hadn', \"hadn't\", 'hasn', \"hasn't\", 'haven', \"haven't\", 'isn', \"isn't\", 'ma', 'mightn', \"mightn't\", 'mustn', \"mustn't\", 'needn', \"needn't\", 'shan', \"shan't\", 'shouldn', \"shouldn't\", 'wasn', \"wasn't\", 'weren', \"weren't\", 'won', \"won't\", 'wouldn', \"wouldn't\"]\n"
          ]
        }
      ]
    },
    {
      "cell_type": "markdown",
      "source": [
        "# Data collection"
      ],
      "metadata": {
        "id": "87XV9yIfE5tb"
      }
    },
    {
      "cell_type": "code",
      "source": [
        "\n",
        "df=pd.read_csv(\"/content/train_edit.csv\")"
      ],
      "metadata": {
        "id": "wt-h2SBkN4ds"
      },
      "execution_count": null,
      "outputs": []
    },
    {
      "cell_type": "code",
      "source": [
        "df.shape"
      ],
      "metadata": {
        "id": "3k0noGQAN_aU",
        "colab": {
          "base_uri": "https://localhost:8080/"
        },
        "outputId": "cdf2eefe-32bb-4998-b40b-7a21e7e884f6"
      },
      "execution_count": null,
      "outputs": [
        {
          "output_type": "execute_result",
          "data": {
            "text/plain": [
              "(408, 5)"
            ]
          },
          "metadata": {},
          "execution_count": 5
        }
      ]
    },
    {
      "cell_type": "code",
      "source": [
        "df.head()"
      ],
      "metadata": {
        "colab": {
          "base_uri": "https://localhost:8080/",
          "height": 206
        },
        "id": "wObYCXEkAgiu",
        "outputId": "78f20fb5-a0dd-4698-cfb4-6d12ec5fb815"
      },
      "execution_count": null,
      "outputs": [
        {
          "output_type": "execute_result",
          "data": {
            "text/plain": [
              "   id                                              title              author  \\\n",
              "0   0  House Dem Aide: We Didn’t Even See Comey’s Let...       Darrell Lucus   \n",
              "1   1  FLYNN: Hillary Clinton, Big Woman on Campus - ...     Daniel J. Flynn   \n",
              "2   2                  Why the Truth Might Get You Fired  Consortiumnews.com   \n",
              "3   3  15 Civilians Killed In Single US Airstrike Hav...     Jessica Purkiss   \n",
              "4   4  Iranian woman jailed for fictional unpublished...      Howard Portnoy   \n",
              "\n",
              "                                                text  label  \n",
              "0  House Dem Aide: We Didn’t Even See Comey’s Let...      1  \n",
              "1  Ever get the feeling your life circles the rou...      0  \n",
              "2  Why the Truth Might Get You Fired October 29, ...      1  \n",
              "3  Videos 15 Civilians Killed In Single US Airstr...      1  \n",
              "4  Print \\nAn Iranian woman has been sentenced to...      1  "
            ],
            "text/html": [
              "\n",
              "  <div id=\"df-2911010a-53f7-4018-9015-04548e1d937a\">\n",
              "    <div class=\"colab-df-container\">\n",
              "      <div>\n",
              "<style scoped>\n",
              "    .dataframe tbody tr th:only-of-type {\n",
              "        vertical-align: middle;\n",
              "    }\n",
              "\n",
              "    .dataframe tbody tr th {\n",
              "        vertical-align: top;\n",
              "    }\n",
              "\n",
              "    .dataframe thead th {\n",
              "        text-align: right;\n",
              "    }\n",
              "</style>\n",
              "<table border=\"1\" class=\"dataframe\">\n",
              "  <thead>\n",
              "    <tr style=\"text-align: right;\">\n",
              "      <th></th>\n",
              "      <th>id</th>\n",
              "      <th>title</th>\n",
              "      <th>author</th>\n",
              "      <th>text</th>\n",
              "      <th>label</th>\n",
              "    </tr>\n",
              "  </thead>\n",
              "  <tbody>\n",
              "    <tr>\n",
              "      <th>0</th>\n",
              "      <td>0</td>\n",
              "      <td>House Dem Aide: We Didn’t Even See Comey’s Let...</td>\n",
              "      <td>Darrell Lucus</td>\n",
              "      <td>House Dem Aide: We Didn’t Even See Comey’s Let...</td>\n",
              "      <td>1</td>\n",
              "    </tr>\n",
              "    <tr>\n",
              "      <th>1</th>\n",
              "      <td>1</td>\n",
              "      <td>FLYNN: Hillary Clinton, Big Woman on Campus - ...</td>\n",
              "      <td>Daniel J. Flynn</td>\n",
              "      <td>Ever get the feeling your life circles the rou...</td>\n",
              "      <td>0</td>\n",
              "    </tr>\n",
              "    <tr>\n",
              "      <th>2</th>\n",
              "      <td>2</td>\n",
              "      <td>Why the Truth Might Get You Fired</td>\n",
              "      <td>Consortiumnews.com</td>\n",
              "      <td>Why the Truth Might Get You Fired October 29, ...</td>\n",
              "      <td>1</td>\n",
              "    </tr>\n",
              "    <tr>\n",
              "      <th>3</th>\n",
              "      <td>3</td>\n",
              "      <td>15 Civilians Killed In Single US Airstrike Hav...</td>\n",
              "      <td>Jessica Purkiss</td>\n",
              "      <td>Videos 15 Civilians Killed In Single US Airstr...</td>\n",
              "      <td>1</td>\n",
              "    </tr>\n",
              "    <tr>\n",
              "      <th>4</th>\n",
              "      <td>4</td>\n",
              "      <td>Iranian woman jailed for fictional unpublished...</td>\n",
              "      <td>Howard Portnoy</td>\n",
              "      <td>Print \\nAn Iranian woman has been sentenced to...</td>\n",
              "      <td>1</td>\n",
              "    </tr>\n",
              "  </tbody>\n",
              "</table>\n",
              "</div>\n",
              "      <button class=\"colab-df-convert\" onclick=\"convertToInteractive('df-2911010a-53f7-4018-9015-04548e1d937a')\"\n",
              "              title=\"Convert this dataframe to an interactive table.\"\n",
              "              style=\"display:none;\">\n",
              "        \n",
              "  <svg xmlns=\"http://www.w3.org/2000/svg\" height=\"24px\"viewBox=\"0 0 24 24\"\n",
              "       width=\"24px\">\n",
              "    <path d=\"M0 0h24v24H0V0z\" fill=\"none\"/>\n",
              "    <path d=\"M18.56 5.44l.94 2.06.94-2.06 2.06-.94-2.06-.94-.94-2.06-.94 2.06-2.06.94zm-11 1L8.5 8.5l.94-2.06 2.06-.94-2.06-.94L8.5 2.5l-.94 2.06-2.06.94zm10 10l.94 2.06.94-2.06 2.06-.94-2.06-.94-.94-2.06-.94 2.06-2.06.94z\"/><path d=\"M17.41 7.96l-1.37-1.37c-.4-.4-.92-.59-1.43-.59-.52 0-1.04.2-1.43.59L10.3 9.45l-7.72 7.72c-.78.78-.78 2.05 0 2.83L4 21.41c.39.39.9.59 1.41.59.51 0 1.02-.2 1.41-.59l7.78-7.78 2.81-2.81c.8-.78.8-2.07 0-2.86zM5.41 20L4 18.59l7.72-7.72 1.47 1.35L5.41 20z\"/>\n",
              "  </svg>\n",
              "      </button>\n",
              "      \n",
              "  <style>\n",
              "    .colab-df-container {\n",
              "      display:flex;\n",
              "      flex-wrap:wrap;\n",
              "      gap: 12px;\n",
              "    }\n",
              "\n",
              "    .colab-df-convert {\n",
              "      background-color: #E8F0FE;\n",
              "      border: none;\n",
              "      border-radius: 50%;\n",
              "      cursor: pointer;\n",
              "      display: none;\n",
              "      fill: #1967D2;\n",
              "      height: 32px;\n",
              "      padding: 0 0 0 0;\n",
              "      width: 32px;\n",
              "    }\n",
              "\n",
              "    .colab-df-convert:hover {\n",
              "      background-color: #E2EBFA;\n",
              "      box-shadow: 0px 1px 2px rgba(60, 64, 67, 0.3), 0px 1px 3px 1px rgba(60, 64, 67, 0.15);\n",
              "      fill: #174EA6;\n",
              "    }\n",
              "\n",
              "    [theme=dark] .colab-df-convert {\n",
              "      background-color: #3B4455;\n",
              "      fill: #D2E3FC;\n",
              "    }\n",
              "\n",
              "    [theme=dark] .colab-df-convert:hover {\n",
              "      background-color: #434B5C;\n",
              "      box-shadow: 0px 1px 3px 1px rgba(0, 0, 0, 0.15);\n",
              "      filter: drop-shadow(0px 1px 2px rgba(0, 0, 0, 0.3));\n",
              "      fill: #FFFFFF;\n",
              "    }\n",
              "  </style>\n",
              "\n",
              "      <script>\n",
              "        const buttonEl =\n",
              "          document.querySelector('#df-2911010a-53f7-4018-9015-04548e1d937a button.colab-df-convert');\n",
              "        buttonEl.style.display =\n",
              "          google.colab.kernel.accessAllowed ? 'block' : 'none';\n",
              "\n",
              "        async function convertToInteractive(key) {\n",
              "          const element = document.querySelector('#df-2911010a-53f7-4018-9015-04548e1d937a');\n",
              "          const dataTable =\n",
              "            await google.colab.kernel.invokeFunction('convertToInteractive',\n",
              "                                                     [key], {});\n",
              "          if (!dataTable) return;\n",
              "\n",
              "          const docLinkHtml = 'Like what you see? Visit the ' +\n",
              "            '<a target=\"_blank\" href=https://colab.research.google.com/notebooks/data_table.ipynb>data table notebook</a>'\n",
              "            + ' to learn more about interactive tables.';\n",
              "          element.innerHTML = '';\n",
              "          dataTable['output_type'] = 'display_data';\n",
              "          await google.colab.output.renderOutput(dataTable, element);\n",
              "          const docLink = document.createElement('div');\n",
              "          docLink.innerHTML = docLinkHtml;\n",
              "          element.appendChild(docLink);\n",
              "        }\n",
              "      </script>\n",
              "    </div>\n",
              "  </div>\n",
              "  "
            ]
          },
          "metadata": {},
          "execution_count": 6
        }
      ]
    },
    {
      "cell_type": "code",
      "source": [
        "df.isnull().sum()"
      ],
      "metadata": {
        "colab": {
          "base_uri": "https://localhost:8080/"
        },
        "id": "SKGgTJyoAlkl",
        "outputId": "d4467a57-59be-4f63-d945-eed8c2e477b3"
      },
      "execution_count": null,
      "outputs": [
        {
          "output_type": "execute_result",
          "data": {
            "text/plain": [
              "id         0\n",
              "title      7\n",
              "author    47\n",
              "text       1\n",
              "label      0\n",
              "dtype: int64"
            ]
          },
          "metadata": {},
          "execution_count": 7
        }
      ]
    },
    {
      "cell_type": "code",
      "source": [
        "df= df.fillna('')"
      ],
      "metadata": {
        "id": "gGFeoRb7AoSc"
      },
      "execution_count": null,
      "outputs": []
    },
    {
      "cell_type": "markdown",
      "source": [
        "# merging author name and news title in new column named content"
      ],
      "metadata": {
        "id": "WhIILnc7EjP4"
      }
    },
    {
      "cell_type": "code",
      "source": [
        "df['content'] = df['author']+' '+df['title']"
      ],
      "metadata": {
        "id": "mZ5YSj50AscM"
      },
      "execution_count": null,
      "outputs": []
    },
    {
      "cell_type": "code",
      "source": [
        "df['content']"
      ],
      "metadata": {
        "colab": {
          "base_uri": "https://localhost:8080/"
        },
        "id": "6a6d5KlfAvWb",
        "outputId": "5f8ae3e2-50ba-4f49-81f3-15bcfb4ba7d2"
      },
      "execution_count": null,
      "outputs": [
        {
          "output_type": "execute_result",
          "data": {
            "text/plain": [
              "0      Darrell Lucus House Dem Aide: We Didn’t Even S...\n",
              "1      Daniel J. Flynn FLYNN: Hillary Clinton, Big Wo...\n",
              "2      Consortiumnews.com Why the Truth Might Get You...\n",
              "3      Jessica Purkiss 15 Civilians Killed In Single ...\n",
              "4      Howard Portnoy Iranian woman jailed for fictio...\n",
              "                             ...                        \n",
              "403    Scott Cacciola Warriors, Resilient at Home, Cr...\n",
              "404    Adam Goldman, Eric Lichtblau and Matt Apuzzo C...\n",
              "405     Trump and Clinton Choice Impacting Global Mar...\n",
              "406     Chinese J-20 stealth fighter debuts in skies ...\n",
              "407    J.E. Dyer Spain, Malta, under U.S./UK pressure...\n",
              "Name: content, Length: 408, dtype: object"
            ]
          },
          "metadata": {},
          "execution_count": 10
        }
      ]
    },
    {
      "cell_type": "markdown",
      "source": [],
      "metadata": {
        "id": "uZow5V5CEk9S"
      }
    },
    {
      "cell_type": "code",
      "source": [
        "X = df.drop(columns='label', axis=1)\n",
        "Y= df['label']"
      ],
      "metadata": {
        "id": "9rn4e0omA38q"
      },
      "execution_count": null,
      "outputs": []
    },
    {
      "cell_type": "code",
      "source": [
        "X"
      ],
      "metadata": {
        "id": "l4naa5yJBA_p",
        "colab": {
          "base_uri": "https://localhost:8080/",
          "height": 641
        },
        "outputId": "64445311-286c-487d-e03b-b726ed159c22"
      },
      "execution_count": null,
      "outputs": [
        {
          "output_type": "execute_result",
          "data": {
            "text/plain": [
              "      id                                              title  \\\n",
              "0      0  House Dem Aide: We Didn’t Even See Comey’s Let...   \n",
              "1      1  FLYNN: Hillary Clinton, Big Woman on Campus - ...   \n",
              "2      2                  Why the Truth Might Get You Fired   \n",
              "3      3  15 Civilians Killed In Single US Airstrike Hav...   \n",
              "4      4  Iranian woman jailed for fictional unpublished...   \n",
              "..   ...                                                ...   \n",
              "403  403  Warriors, Resilient at Home, Cruise Against th...   \n",
              "404  404  Comey Letter on Clinton Email Is Subject of Ju...   \n",
              "405  405  Trump and Clinton Choice Impacting Global Markets   \n",
              "406  406  Chinese J-20 stealth fighter debuts in skies o...   \n",
              "407  407  Spain, Malta, under U.S./UK pressure, refuse t...   \n",
              "\n",
              "                                           author  \\\n",
              "0                                   Darrell Lucus   \n",
              "1                                 Daniel J. Flynn   \n",
              "2                              Consortiumnews.com   \n",
              "3                                 Jessica Purkiss   \n",
              "4                                  Howard Portnoy   \n",
              "..                                            ...   \n",
              "403                                Scott Cacciola   \n",
              "404  Adam Goldman, Eric Lichtblau and Matt Apuzzo   \n",
              "405                                                 \n",
              "406                                                 \n",
              "407                                     J.E. Dyer   \n",
              "\n",
              "                                                  text  \\\n",
              "0    House Dem Aide: We Didn’t Even See Comey’s Let...   \n",
              "1    Ever get the feeling your life circles the rou...   \n",
              "2    Why the Truth Might Get You Fired October 29, ...   \n",
              "3    Videos 15 Civilians Killed In Single US Airstr...   \n",
              "4    Print \\nAn Iranian woman has been sentenced to...   \n",
              "..                                                 ...   \n",
              "403  OAKLAND, Calif.  —   Steve Kerr, the coach of ...   \n",
              "404  WASHINGTON  —   The Justice Department’s inspe...   \n",
              "405  Trump and Clinton Choice Impacting Global Mark...   \n",
              "406  Chinese J-20 stealth fighter debuts in skies o...   \n",
              "407  Print \\n[Ed. – This passive-aggressive BS Obam...   \n",
              "\n",
              "                                               content  \n",
              "0    Darrell Lucus House Dem Aide: We Didn’t Even S...  \n",
              "1    Daniel J. Flynn FLYNN: Hillary Clinton, Big Wo...  \n",
              "2    Consortiumnews.com Why the Truth Might Get You...  \n",
              "3    Jessica Purkiss 15 Civilians Killed In Single ...  \n",
              "4    Howard Portnoy Iranian woman jailed for fictio...  \n",
              "..                                                 ...  \n",
              "403  Scott Cacciola Warriors, Resilient at Home, Cr...  \n",
              "404  Adam Goldman, Eric Lichtblau and Matt Apuzzo C...  \n",
              "405   Trump and Clinton Choice Impacting Global Mar...  \n",
              "406   Chinese J-20 stealth fighter debuts in skies ...  \n",
              "407  J.E. Dyer Spain, Malta, under U.S./UK pressure...  \n",
              "\n",
              "[408 rows x 5 columns]"
            ],
            "text/html": [
              "\n",
              "  <div id=\"df-65b6fc05-8703-49ba-a97b-bb133fbea546\">\n",
              "    <div class=\"colab-df-container\">\n",
              "      <div>\n",
              "<style scoped>\n",
              "    .dataframe tbody tr th:only-of-type {\n",
              "        vertical-align: middle;\n",
              "    }\n",
              "\n",
              "    .dataframe tbody tr th {\n",
              "        vertical-align: top;\n",
              "    }\n",
              "\n",
              "    .dataframe thead th {\n",
              "        text-align: right;\n",
              "    }\n",
              "</style>\n",
              "<table border=\"1\" class=\"dataframe\">\n",
              "  <thead>\n",
              "    <tr style=\"text-align: right;\">\n",
              "      <th></th>\n",
              "      <th>id</th>\n",
              "      <th>title</th>\n",
              "      <th>author</th>\n",
              "      <th>text</th>\n",
              "      <th>content</th>\n",
              "    </tr>\n",
              "  </thead>\n",
              "  <tbody>\n",
              "    <tr>\n",
              "      <th>0</th>\n",
              "      <td>0</td>\n",
              "      <td>House Dem Aide: We Didn’t Even See Comey’s Let...</td>\n",
              "      <td>Darrell Lucus</td>\n",
              "      <td>House Dem Aide: We Didn’t Even See Comey’s Let...</td>\n",
              "      <td>Darrell Lucus House Dem Aide: We Didn’t Even S...</td>\n",
              "    </tr>\n",
              "    <tr>\n",
              "      <th>1</th>\n",
              "      <td>1</td>\n",
              "      <td>FLYNN: Hillary Clinton, Big Woman on Campus - ...</td>\n",
              "      <td>Daniel J. Flynn</td>\n",
              "      <td>Ever get the feeling your life circles the rou...</td>\n",
              "      <td>Daniel J. Flynn FLYNN: Hillary Clinton, Big Wo...</td>\n",
              "    </tr>\n",
              "    <tr>\n",
              "      <th>2</th>\n",
              "      <td>2</td>\n",
              "      <td>Why the Truth Might Get You Fired</td>\n",
              "      <td>Consortiumnews.com</td>\n",
              "      <td>Why the Truth Might Get You Fired October 29, ...</td>\n",
              "      <td>Consortiumnews.com Why the Truth Might Get You...</td>\n",
              "    </tr>\n",
              "    <tr>\n",
              "      <th>3</th>\n",
              "      <td>3</td>\n",
              "      <td>15 Civilians Killed In Single US Airstrike Hav...</td>\n",
              "      <td>Jessica Purkiss</td>\n",
              "      <td>Videos 15 Civilians Killed In Single US Airstr...</td>\n",
              "      <td>Jessica Purkiss 15 Civilians Killed In Single ...</td>\n",
              "    </tr>\n",
              "    <tr>\n",
              "      <th>4</th>\n",
              "      <td>4</td>\n",
              "      <td>Iranian woman jailed for fictional unpublished...</td>\n",
              "      <td>Howard Portnoy</td>\n",
              "      <td>Print \\nAn Iranian woman has been sentenced to...</td>\n",
              "      <td>Howard Portnoy Iranian woman jailed for fictio...</td>\n",
              "    </tr>\n",
              "    <tr>\n",
              "      <th>...</th>\n",
              "      <td>...</td>\n",
              "      <td>...</td>\n",
              "      <td>...</td>\n",
              "      <td>...</td>\n",
              "      <td>...</td>\n",
              "    </tr>\n",
              "    <tr>\n",
              "      <th>403</th>\n",
              "      <td>403</td>\n",
              "      <td>Warriors, Resilient at Home, Cruise Against th...</td>\n",
              "      <td>Scott Cacciola</td>\n",
              "      <td>OAKLAND, Calif.  —   Steve Kerr, the coach of ...</td>\n",
              "      <td>Scott Cacciola Warriors, Resilient at Home, Cr...</td>\n",
              "    </tr>\n",
              "    <tr>\n",
              "      <th>404</th>\n",
              "      <td>404</td>\n",
              "      <td>Comey Letter on Clinton Email Is Subject of Ju...</td>\n",
              "      <td>Adam Goldman, Eric Lichtblau and Matt Apuzzo</td>\n",
              "      <td>WASHINGTON  —   The Justice Department’s inspe...</td>\n",
              "      <td>Adam Goldman, Eric Lichtblau and Matt Apuzzo C...</td>\n",
              "    </tr>\n",
              "    <tr>\n",
              "      <th>405</th>\n",
              "      <td>405</td>\n",
              "      <td>Trump and Clinton Choice Impacting Global Markets</td>\n",
              "      <td></td>\n",
              "      <td>Trump and Clinton Choice Impacting Global Mark...</td>\n",
              "      <td>Trump and Clinton Choice Impacting Global Mar...</td>\n",
              "    </tr>\n",
              "    <tr>\n",
              "      <th>406</th>\n",
              "      <td>406</td>\n",
              "      <td>Chinese J-20 stealth fighter debuts in skies o...</td>\n",
              "      <td></td>\n",
              "      <td>Chinese J-20 stealth fighter debuts in skies o...</td>\n",
              "      <td>Chinese J-20 stealth fighter debuts in skies ...</td>\n",
              "    </tr>\n",
              "    <tr>\n",
              "      <th>407</th>\n",
              "      <td>407</td>\n",
              "      <td>Spain, Malta, under U.S./UK pressure, refuse t...</td>\n",
              "      <td>J.E. Dyer</td>\n",
              "      <td>Print \\n[Ed. – This passive-aggressive BS Obam...</td>\n",
              "      <td>J.E. Dyer Spain, Malta, under U.S./UK pressure...</td>\n",
              "    </tr>\n",
              "  </tbody>\n",
              "</table>\n",
              "<p>408 rows × 5 columns</p>\n",
              "</div>\n",
              "      <button class=\"colab-df-convert\" onclick=\"convertToInteractive('df-65b6fc05-8703-49ba-a97b-bb133fbea546')\"\n",
              "              title=\"Convert this dataframe to an interactive table.\"\n",
              "              style=\"display:none;\">\n",
              "        \n",
              "  <svg xmlns=\"http://www.w3.org/2000/svg\" height=\"24px\"viewBox=\"0 0 24 24\"\n",
              "       width=\"24px\">\n",
              "    <path d=\"M0 0h24v24H0V0z\" fill=\"none\"/>\n",
              "    <path d=\"M18.56 5.44l.94 2.06.94-2.06 2.06-.94-2.06-.94-.94-2.06-.94 2.06-2.06.94zm-11 1L8.5 8.5l.94-2.06 2.06-.94-2.06-.94L8.5 2.5l-.94 2.06-2.06.94zm10 10l.94 2.06.94-2.06 2.06-.94-2.06-.94-.94-2.06-.94 2.06-2.06.94z\"/><path d=\"M17.41 7.96l-1.37-1.37c-.4-.4-.92-.59-1.43-.59-.52 0-1.04.2-1.43.59L10.3 9.45l-7.72 7.72c-.78.78-.78 2.05 0 2.83L4 21.41c.39.39.9.59 1.41.59.51 0 1.02-.2 1.41-.59l7.78-7.78 2.81-2.81c.8-.78.8-2.07 0-2.86zM5.41 20L4 18.59l7.72-7.72 1.47 1.35L5.41 20z\"/>\n",
              "  </svg>\n",
              "      </button>\n",
              "      \n",
              "  <style>\n",
              "    .colab-df-container {\n",
              "      display:flex;\n",
              "      flex-wrap:wrap;\n",
              "      gap: 12px;\n",
              "    }\n",
              "\n",
              "    .colab-df-convert {\n",
              "      background-color: #E8F0FE;\n",
              "      border: none;\n",
              "      border-radius: 50%;\n",
              "      cursor: pointer;\n",
              "      display: none;\n",
              "      fill: #1967D2;\n",
              "      height: 32px;\n",
              "      padding: 0 0 0 0;\n",
              "      width: 32px;\n",
              "    }\n",
              "\n",
              "    .colab-df-convert:hover {\n",
              "      background-color: #E2EBFA;\n",
              "      box-shadow: 0px 1px 2px rgba(60, 64, 67, 0.3), 0px 1px 3px 1px rgba(60, 64, 67, 0.15);\n",
              "      fill: #174EA6;\n",
              "    }\n",
              "\n",
              "    [theme=dark] .colab-df-convert {\n",
              "      background-color: #3B4455;\n",
              "      fill: #D2E3FC;\n",
              "    }\n",
              "\n",
              "    [theme=dark] .colab-df-convert:hover {\n",
              "      background-color: #434B5C;\n",
              "      box-shadow: 0px 1px 3px 1px rgba(0, 0, 0, 0.15);\n",
              "      filter: drop-shadow(0px 1px 2px rgba(0, 0, 0, 0.3));\n",
              "      fill: #FFFFFF;\n",
              "    }\n",
              "  </style>\n",
              "\n",
              "      <script>\n",
              "        const buttonEl =\n",
              "          document.querySelector('#df-65b6fc05-8703-49ba-a97b-bb133fbea546 button.colab-df-convert');\n",
              "        buttonEl.style.display =\n",
              "          google.colab.kernel.accessAllowed ? 'block' : 'none';\n",
              "\n",
              "        async function convertToInteractive(key) {\n",
              "          const element = document.querySelector('#df-65b6fc05-8703-49ba-a97b-bb133fbea546');\n",
              "          const dataTable =\n",
              "            await google.colab.kernel.invokeFunction('convertToInteractive',\n",
              "                                                     [key], {});\n",
              "          if (!dataTable) return;\n",
              "\n",
              "          const docLinkHtml = 'Like what you see? Visit the ' +\n",
              "            '<a target=\"_blank\" href=https://colab.research.google.com/notebooks/data_table.ipynb>data table notebook</a>'\n",
              "            + ' to learn more about interactive tables.';\n",
              "          element.innerHTML = '';\n",
              "          dataTable['output_type'] = 'display_data';\n",
              "          await google.colab.output.renderOutput(dataTable, element);\n",
              "          const docLink = document.createElement('div');\n",
              "          docLink.innerHTML = docLinkHtml;\n",
              "          element.appendChild(docLink);\n",
              "        }\n",
              "      </script>\n",
              "    </div>\n",
              "  </div>\n",
              "  "
            ]
          },
          "metadata": {},
          "execution_count": 12
        }
      ]
    },
    {
      "cell_type": "code",
      "source": [
        "Y"
      ],
      "metadata": {
        "id": "jbjlhyhABEaR",
        "colab": {
          "base_uri": "https://localhost:8080/"
        },
        "outputId": "d9c7afcb-cb0a-4220-eb40-7ce1650d2178"
      },
      "execution_count": null,
      "outputs": [
        {
          "output_type": "execute_result",
          "data": {
            "text/plain": [
              "0      1\n",
              "1      0\n",
              "2      1\n",
              "3      1\n",
              "4      1\n",
              "      ..\n",
              "403    0\n",
              "404    0\n",
              "405    1\n",
              "406    1\n",
              "407    1\n",
              "Name: label, Length: 408, dtype: int64"
            ]
          },
          "metadata": {},
          "execution_count": 13
        }
      ]
    },
    {
      "cell_type": "markdown",
      "source": [
        "# Stemming"
      ],
      "metadata": {
        "id": "jEHgExf0GhsN"
      }
    },
    {
      "cell_type": "code",
      "source": [
        "port_stem = PorterStemmer()"
      ],
      "metadata": {
        "id": "Jwym-IRRBFQ5"
      },
      "execution_count": null,
      "outputs": []
    },
    {
      "cell_type": "markdown",
      "source": [],
      "metadata": {
        "id": "2tavSYlAFc49"
      }
    },
    {
      "cell_type": "code",
      "source": [
        "#stemming-> reducing the words to its root word eg. actor,actress,acting to act\n",
        "def stemming(content):\n",
        "    stemmed_content = re.sub('[^a-zA-Z]',' ',content)\n",
        "    # [^a-zA-Z]',' ' -> replacing all values except alphabets with ' '\n",
        "    stemmed_content = stemmed_content.lower()\n",
        "    stemmed_content = stemmed_content.split()\n",
        "    stemmed_content = [port_stem.stem(word) for word in stemmed_content if not word in stopwords.words('english')]\n",
        "    stemmed_content = ' '.join(stemmed_content)\n",
        "    return stemmed_content"
      ],
      "metadata": {
        "id": "kfHz3W_vBJmg"
      },
      "execution_count": null,
      "outputs": []
    },
    {
      "cell_type": "code",
      "source": [
        "df['content'] = df['content'].apply(stemming)"
      ],
      "metadata": {
        "id": "vwjbCQhhBMD4"
      },
      "execution_count": null,
      "outputs": []
    },
    {
      "cell_type": "code",
      "source": [
        "df['content']"
      ],
      "metadata": {
        "colab": {
          "base_uri": "https://localhost:8080/"
        },
        "id": "SUHjDoibBOvX",
        "outputId": "0533d7c6-faed-4d8f-fe6a-1a2ad691d9cd"
      },
      "execution_count": null,
      "outputs": [
        {
          "output_type": "execute_result",
          "data": {
            "text/plain": [
              "0      darrel lucu hous dem aid even see comey letter...\n",
              "1      daniel j flynn flynn hillari clinton big woman...\n",
              "2                 consortiumnew com truth might get fire\n",
              "3      jessica purkiss civilian kill singl us airstri...\n",
              "4      howard portnoy iranian woman jail fiction unpu...\n",
              "                             ...                        \n",
              "403    scott cacciola warrior resili home cruis caval...\n",
              "404    adam goldman eric lichtblau matt apuzzo comey ...\n",
              "405             trump clinton choic impact global market\n",
              "406            chines j stealth fighter debut sky zhuhai\n",
              "407    j e dyer spain malta u uk pressur refus allow ...\n",
              "Name: content, Length: 408, dtype: object"
            ]
          },
          "metadata": {},
          "execution_count": 17
        }
      ]
    },
    {
      "cell_type": "markdown",
      "source": [
        "# Separating data and label"
      ],
      "metadata": {
        "id": "kcEp9ppUG0WC"
      }
    },
    {
      "cell_type": "code",
      "source": [
        "#separating the data and label\n",
        "X = df['content'].values\n",
        "Y = df['label'].values"
      ],
      "metadata": {
        "id": "03iU9qkSBSJn"
      },
      "execution_count": null,
      "outputs": []
    },
    {
      "cell_type": "code",
      "source": [
        "X"
      ],
      "metadata": {
        "colab": {
          "base_uri": "https://localhost:8080/"
        },
        "id": "6zMAVZv9BVDn",
        "outputId": "e3636cbd-4b7c-464d-801c-7f9ab6b833de"
      },
      "execution_count": null,
      "outputs": [
        {
          "output_type": "execute_result",
          "data": {
            "text/plain": [
              "array(['darrel lucu hous dem aid even see comey letter jason chaffetz tweet',\n",
              "       'daniel j flynn flynn hillari clinton big woman campu breitbart',\n",
              "       'consortiumnew com truth might get fire',\n",
              "       'jessica purkiss civilian kill singl us airstrik identifi',\n",
              "       'howard portnoy iranian woman jail fiction unpublish stori woman stone death adulteri',\n",
              "       'daniel nussbaum jacki mason hollywood would love trump bomb north korea lack tran bathroom exclus video breitbart',\n",
              "       'life life luxuri elton john favorit shark pictur stare long transcontinent flight',\n",
              "       'alissa j rubin beno hamon win french socialist parti presidenti nomin new york time',\n",
              "       'excerpt draft script donald trump q ampa black church pastor new york time',\n",
              "       'megan twohey scott shane back channel plan ukrain russia courtesi trump associ new york time',\n",
              "       'aaron klein obama organ action partner soro link indivis disrupt trump agenda',\n",
              "       'chri tomlinson bbc comedi sketch real housew isi caus outrag',\n",
              "       'amando flavio russian research discov secret nazi militari base treasur hunter arctic photo',\n",
              "       'jason ditz us offici see link trump russia',\n",
              "       'anotheranni ye paid govern troll social media blog forum websit',\n",
              "       'jack william major leagu soccer argentin find home success new york time',\n",
              "       'michael corkeri staci cowley well fargo chief abruptli step new york time',\n",
              "       'starkman anonym donor pay million releas everyon arrest dakota access pipelin',\n",
              "       'doc fbi close hillari',\n",
              "       'jeff poor chuck todd buzzfe donald trump polit favor breitbart',\n",
              "       'news hope gop nude paul ryan emerg ayahuasca tent vision new republican parti',\n",
              "       'jerom hudson monica lewinski clinton sex scandal set american crime stori',\n",
              "       'pam key rob reiner trump mental unstabl breitbart',\n",
              "       'massachusett cop wife bust pin fake home invas robberi black live matter',\n",
              "       'donald g mcneil jr pam belluck abort pill order rise latin american nation zika alert new york time',\n",
              "       'ira helfand nuke un histor treati ban nuclear weapon',\n",
              "       'aaron klein ali wake exclus islam state support vow shake west follow manchest terrorist massacr breitbart',\n",
              "       'amanda shea humili hillari tri hide camera caught min ralli',\n",
              "       'jim dwyer andrea tantaro fox news claim retali sex harass complaint new york time',\n",
              "       'mark landler hillari clinton becam hawk new york time',\n",
              "       'ian hanchett chuck todd buzzfe eic publish fake news breitbart',\n",
              "       'israel becom pivot china mid eastern calculu http journal neo org israel becom pivot china mid eastern calculu',\n",
              "       'steven erlang bori johnson brexit leader fumbl new york time',\n",
              "       'clifford krauss texa oil field rebound price lull job left behind new york time',\n",
              "       'lesli picker danni hakim michael j de la merc bayer deal monsanto follow agribusi trend rais worri farmer new york time',\n",
              "       'andrew higgin russia move ban jehovah wit extremist new york time',\n",
              "       'greanfinish still danger zone januari th',\n",
              "       'b open thread u elect',\n",
              "       'awr hawkin democrat gutierrez blame chicago gun violenc nra breitbart',\n",
              "       'aaron e carrol avoid peanut avoid allergi bad strategi new york time',\n",
              "       'dr susan berri mri show detail imag week unborn babi breitbart',\n",
              "       'alexandria laredo best kind milk dairi',\n",
              "       'kati roger ryan locht drop speedo usa retail new york time',\n",
              "       'one girlfriend without bastard f king ask harri',\n",
              "       'ian mason conserv urg session clean obama civil right divis breitbart',\n",
              "       'jim rutenberg ben protess emili steel intern inquiri seal fate roger ail fox new york time',\n",
              "       'gordon duff senior editor press tv debat duff lebanon hezbollah aoun presid video',\n",
              "       '',\n",
              "       'brian x chen samsung combust galaxi note unveil new smartphon new york time',\n",
              "       'virginia hale poland vow referendum migrant quota amidst eu pressur public voic heard breitbart',\n",
              "       'lanc schuttler spark inner revolut',\n",
              "       'duel drill increas nato russia tension',\n",
              "       'nate church studi half car crash involv driver distract cell phone breitbart',\n",
              "       'dairi',\n",
              "       'samantha bee explor danger rise alt right american polit video',\n",
              "       'lanc schuttler trump elect spark individu collect heal',\n",
              "       'madelin ep fade black jimmi church w laura eisenhow restor balanc video',\n",
              "       'r islam cognit true islam book review',\n",
              "       'doc donald trump win elect biggest miracl us polit histori',\n",
              "       'jeff gordini mind eat way fight bing new york time',\n",
              "       'neil irwin major potenti impact corpor tax overhaul new york time',\n",
              "       'anonym coward uid wonder glp like day elect',\n",
              "       'kenneth chang sewel chan maker world smallest machin award nobel prize chemistri new york time',\n",
              "       'truth broadcast network massiv anti trump protest union squar nyc live stream',\n",
              "       'scott review lion bring tear lost boy wipe dri googl new york time',\n",
              "       'kristina wong u gener islam state chemic attack impact u forc',\n",
              "       'admin juri find oregon standoff defend guilti feder conspiraci gun charg',\n",
              "       'doc clinton campaign stun fbi reportedli reopen probe hillari clinton email',\n",
              "       'jeremi w peter penc speak anti abort ralli new york time',\n",
              "       'jason easley berni sander say media trump gutless polit coward',\n",
              "       'chri black make briquett daili wast',\n",
              "       'ivan stakhanovet treason nyt vow reded report',\n",
              "       'jacey fortin dress like woman mean new york time',\n",
              "       'brett anderson ella brennan still feed lead new orlean new york time',\n",
              "       'jane perlez press asia agenda obama tread lightli human right new york time',\n",
              "       'josh katz democrat percent chanc retak senat new york time',\n",
              "       'news pr disast presid panason forc resign panason tv ascend heaven without warn',\n",
              "       'redflag newsdesk judg spank transgend obsess obama lie redflag news',\n",
              "       'mark landler u diplomat urg strike assad syria new york time',\n",
              "       'pam key franken call independ investig trump putin crush breitbart',\n",
              "       'andrea kannapel sandra stevenson louisiana simon bile u presidenti race tuesday even brief new york time',\n",
              "       'breitbart london turkey threaten open migrant land passag europ row dutch',\n",
              "       'steve sailer huma weiner dog hillari',\n",
              "       'scott osborn colin kaepernick start black panther inspir youth camp wow',\n",
              "       'nichola kulish vivian yee caitlin dickerson liz robbin fernanda santo jennif medina trump immigr polici explain new york time',\n",
              "       'niraj chokshi liam stack mari tyler moor mourn dick van dyke star new york time',\n",
              "       'heather callaghan poison',\n",
              "       'jack heali trump fan ralli across nation support presid new york time',\n",
              "       'kayla brandon fox biz report help bash clinton ralli cover trump pack event day',\n",
              "       'amanda hess fiction podcast worth listen new york time',\n",
              "       'mike birbiglia mike birbiglia tip make small hollywood anywher new york time',\n",
              "       'mac slavo invest strategist forecast collaps timelin last gasp econom cycl come',\n",
              "       'nichola casey patricia torr venezuela muzzl legislatur move closer one man rule new york time',\n",
              "       'natur news editor whether john mccain mitt romney donald trump democrat alway run war women tactic destroy republican candid',\n",
              "       'breitbart news breitbart news daili trump boom breitbart',\n",
              "       'edwin mora white hous confirm gitmo transfer obama leav offic',\n",
              "       'geometri energi medit buddha',\n",
              "       'katherin rodriguez poll voter heard democrat elect candid breitbart',\n",
              "       'vivian yee migrant confront judgment day old deport order new york time',\n",
              "       'tara siegel bernard n u yale su retir plan fee new york time',\n",
              "       'activist post technocraci real reason un want control internet',\n",
              "       'matt richtel american driver regain appetit ga guzzler new york time',\n",
              "       'nichola confessor rachel shorey hillari clinton build million war chest doubl donald trump new york time',\n",
              "       'amanda shea trump catch sick report snuck interview priceless respons',\n",
              "       'joel b pollak senat contact russian govern week',\n",
              "       'anti media imag perfectli illustr struggl dakota access pipelin',\n",
              "       'michael patrick leahi washington state take refuge muslim rest countri take refuge muslim breitbart',\n",
              "       'houthi forc captur saudi militari base asir russia news',\n",
              "       'warner todd huston ncaa big keep watch eye texa bathroom bill breitbart',\n",
              "       'dylan gwinn massiv espn financi subscrib loss drag disney first quarter sale breitbart',\n",
              "       'john koblin megyn kelli contract set expir next year prime big show new york time',\n",
              "       'katherin rodriguez teacher suspend allow student hit trump pinata cinco de mayo',\n",
              "       'ami moreno break trump express concern anthoni weiner illeg access classifi info month ago truthfe',\n",
              "       'michael j de la merc snap share leap debut investor doubt valu vanish new york time',\n",
              "       'admin clinton campaign chair dinner top doj offici one day hillari benghazi hear',\n",
              "       'warner todd huston tv seri first femal mlb pitcher can one low rate season breitbart',\n",
              "       'jer longman seek best fit women final four return friday sunday new york time',\n",
              "       'ian austen propos canadian nation bird ruffl feather new york time',\n",
              "       'jon parel review beyonc make lemonad marit strife new york time',\n",
              "       'glenn thrush kate kelli maggi haberman trump ask sharp increas militari spend offici say new york time',\n",
              "       'anonym',\n",
              "       'contribut author waterg smoke gun email discuss clean obama hillari email',\n",
              "       'eric striker chapo trap hous new left wing podcast flagrant rip right stuff',\n",
              "       'michael forsyth chri buckley taiwan respond china send carrier taiwan strait new york time',\n",
              "       'seeksearchdestori',\n",
              "       'david stockman mother octob surpris hous card come tumbl',\n",
              "       'wmw admin explos assang pilger interview us elect expect riot hillari win',\n",
              "       'denni overby telescop ate astronomi track surpass hubbl new york time',\n",
              "       'mujib mashal close afghan pakistani border becom humanitarian crisi new york time',\n",
              "       'kristina wong tv anchor arriv white hous lunch donald trump breitbart',\n",
              "       'trent baker pelosi republican tell trump bring dishonor presid breitbart',\n",
              "       'editor beauti prehistor world earth wasteland',\n",
              "       'farhad manjoo ignor trump news week learn new york time',\n",
              "       'nick corasan maggi haberman donald trump unveil plan famili bid women vote new york time',\n",
              "       'eu finland help settlement syria conflict iran parliament speaker',\n",
              "       'fbi director comey leak memo explain reopen clinton email case',\n",
              "       'ben kew montana democrat vote bill ban sharia law call repugn breitbart',\n",
              "       'editor monsanto tribun go happen',\n",
              "       'shame heartbreak anoth day america',\n",
              "       'victor mather doug mill chang w lee offici simon bile world best gymnast new york time',\n",
              "       'anonym',\n",
              "       'beforeitsnew com liter hurt brain read econom idioci emit trumpkin libertarian',\n",
              "       'gorafi magazin entretien exclusif avec barack obama plu rien secouer merdez vou le gorafi',\n",
              "       'geoffrey grider u n secretari gener complain mass reject global favor nation',\n",
              "       'steelman trump bollywood ad meant sway indian american voter hilari fail video',\n",
              "       'zero hedg fbi find previous unseen hillari clinton email weiner laptop',\n",
              "       'starkman year american journalist kill conspiraci theori syria proven fact',\n",
              "       'awr hawkin report illeg alien forego food stamp stay trump radar',\n",
              "       'european union time make netherland great hahaha spread worldwid',\n",
              "       'aaron klein four kill injur jerusalem truck ram terror attack',\n",
              "       'andrew anglin leader salut comrad newt brutal megyn sic kelli beatdown play game',\n",
              "       'colin taylor student black colleg got beaten mace protest kkk david duke',\n",
              "       'awr hawkin despit strict gun control one child youth shot everi day ontario',\n",
              "       'amanda hess rise internet fan bulli new york time',\n",
              "       'jason horowitz newli vibrant washington fear trump drain cultur new york time',\n",
              "       'binyamin appelbaum fed hold interest rate steadi plan slower increas new york time',\n",
              "       'ari lieberman battl unesco',\n",
              "       'juli hirschfeld davi latest test white hous pull easter egg roll new york time',\n",
              "       'katherin rodriguez burlesqu dancer fire investig secret servic trump assassin tweet breitbart',\n",
              "       'nathan j robinson clinton haiti',\n",
              "       'vivian yee cuomo christi parallel path top troubl got new york time',\n",
              "       'dikran arakelian norepli blogger com top place world allow visit',\n",
              "       'whitney webb new studi link fluorid consumpt hypothyroid weight gain wors',\n",
              "       'david swanson jame matti secretari offens',\n",
              "       'colin taylor black church burn spray paint vote trump',\n",
              "       'michael j de la merc sear agre sell craftsman stanley black amp decker rais cash new york time',\n",
              "       'jonathan sobl takata chief execut resign financi pressur mount new york time',\n",
              "       'christoph shea goodby good black sabbath new york time',\n",
              "       'adel nazarian teen geisha doll gang bust arm robberi breitbart',\n",
              "       'jame fulford mohamad khwei anoth virginia man palestinian american muslim charg terror',\n",
              "       'rememb talk stand rock',\n",
              "       'pam key price obamacar replac nobodi wors financi breitbart',\n",
              "       'arnaldo rodger va fail properli examin thousand veteran',\n",
              "       'guest trump famili alreadi sworn secreci fake moon land soon',\n",
              "       'warner todd huston sport writer nfl great jim brown decad civil right work eras say nice thing donald trump breitbart',\n",
              "       'spider pig found amazon rain forest',\n",
              "       'jeremi w peter watch tv excus republican skip donald trump convent new york time',\n",
              "       'colin taylor open letter trump voter told like',\n",
              "       'runsinquicksand comment power corpor lobbi quietli back hillari nobodi talk runsinquicksand',\n",
              "       'teacher unsur get smash eighth night run',\n",
              "       'declan walsh hijack end peac libyan airlin land malta new york time',\n",
              "       'wesley morri like girl girl geniu new york time',\n",
              "       'carl zimmer scientist say canadian bacteria fossil may earth oldest new york time',\n",
              "       'ann barnard karam shoumali pro govern forc advanc syria amid talk u russia cooper new york time',\n",
              "       'rt cancer agenc fire withhold carcinogen glyphos document',\n",
              "       'gretchen reynold work walk minut work new york time',\n",
              "       'milit use toxic ga near aleppo airport report',\n",
              "       'sopan deb steve harvey talk hous presid elect trump new york time',\n",
              "       'edwin mora coalit u troop fight mosul offens come fire',\n",
              "       'barenakedislam uk citizen war hero get cheap pre fab hous muslim colon get taxpay fund luxuri council home',\n",
              "       'iwb vet fight war fed demand money back illeg refuge keep money',\n",
              "       'robert draper mr trump wild ride new york time',\n",
              "       'dsg fbi director comey bamboozl doj congress clinton',\n",
              "       'twain yobra food natur unclog arteri prevent heart attack',\n",
              "       'consortiumnew com death two state solut',\n",
              "       'watch polic vicious attack arrest peac protest dapl includ children elderli',\n",
              "       'raffi',\n",
              "       'facespac comment parent date asleep car cop arriv kill facespac',\n",
              "       'could teach men nurtur counteract cultur toxic masculin',\n",
              "       'eric lipton charli savag michael schmidt donald trump team show sign post elect moder new york time',\n",
              "       'lizett alvarez miami beach tri tame raucou street fishbowl drink stay new york time',\n",
              "       'starkman doctor mysteri found dead summit breakthrough cure cancer',\n",
              "       'declan walsh donald trump unsink candid new york time',\n",
              "       'daili sheepl shock new mock hillari ad campaign warn take us war enlistforh fightforh dieforh',\n",
              "       'failur us democraci',\n",
              "       'bob price exclus famili slain border patrol agent brian terri say eric holder among real crimin respons',\n",
              "       'adam shaw trump tell report wall work ask israel breitbart',\n",
              "       'tim king america surviv next year',\n",
              "       'david waldstein commission start press cleveland indian logo new york time',\n",
              "       'babylon mysteri religion seri',\n",
              "       'starkman un plan implant everyon biometr id drill',\n",
              "       'jonathan weisman eric lichtblau charli savag trump attack senat credibl gorsuch comment new york time',\n",
              "       'dawn parabellum clinton advisor lose leak email hillari illeg activ',\n",
              "       'trent baker art laffer paul ryan perfect right breitbart',\n",
              "       'iwb donald trump blame econom crash',\n",
              "       'new world order push back brexit revolut',\n",
              "       'sausag machin pokemon go player inadvert stop peopl commit suicid japan',\n",
              "       'jennif medina california senat race tale divers flail g p new york time',\n",
              "       'toni lee exclus sourc say megyn kelli would welcom back fox news',\n",
              "       'juli hirschfeld davi break preced obama envoy deni extens past inaugur day new york time',\n",
              "       'sarah lyall brexit vote go monti python may offer clue new york time',\n",
              "       'starkman blind mystic predict bad news trump',\n",
              "       'john hayward total vet fail left wing snowden fan girl realiti winner get access nsa secret',\n",
              "       'philsilversghost',\n",
              "       'mark mazzetti jeffrey gettleman eric schmitt somalia u escal shadow war new york time',\n",
              "       'alan blinder free care bless victim orlando nightclub attack new york time',\n",
              "       'howard portnoy durabl democrat counti countri could go trump',\n",
              "       'eduardo porter fed challeng rais rate may existenti new york time',\n",
              "       'angela borozna russia intent attack anyon absurd say vladimir putin',\n",
              "       '',\n",
              "       'christoph mele f investig errant flight involv harrison ford new york time',\n",
              "       'ask holli everyon problem',\n",
              "       'binyamin appelbaum fed rais key interest rate cite strengthen economi new york time',\n",
              "       'xavi puig la expresi n lo siguient ya es la utilizada lo siguient en el castellano',\n",
              "       'jim rutenberg trump berat news media new strategi need cover new york time',\n",
              "       'sunk cost billion wast imaginari weapon sinc',\n",
              "       'chang montenegrin leader chang ideolog',\n",
              "       'helen cooper u drone strike target taliban leader new york time',\n",
              "       'shepard ambella u intellig expect al qaeda attack monday new york virginia texa',\n",
              "       'paul fassa told cannabi great revers alzheim',\n",
              "       'daniel nussbaum report megyn kelli kick nbc show kardashian famili interview',\n",
              "       'robert frank karl russel local percent may rich think new york time',\n",
              "       'dr patrick slatteri dr david duke mark collett uk collett explain duke trump victori would chang polit forev',\n",
              "       'michael corkeri statement senat well fargo chief deepli sorri new york time',\n",
              "       'luca nolan cnn statement distanc network buzzfe fake news dossier breitbart',\n",
              "       'andrew ross sorkin c e ponder new game trump rule new york time',\n",
              "       'trent baker spicer bradi stolen jersey anoth bad press breitbart',\n",
              "       'steph yin scaredi cat investig peopl enjoy fear new york time',\n",
              "       'thoma sowel left vision',\n",
              "       'paul mozur showdown loom u question chines deal german chip design new york time',\n",
              "       'fbi obtain warrant search huma abedin email',\n",
              "       'mark landler michael shear trump administr take harder tack trade china new york time',\n",
              "       'penni starr pew american trust level feder govern plummet histor low breitbart',\n",
              "       'jenna leigh richardson islam state support former nation guardsman plead guilti terror charg virginia',\n",
              "       'western qld drover show solidar c u b worker drink sauv blanc betoota advoc',\n",
              "       'pam key spicer report go rais hand like big boy girl breitbart',\n",
              "       'dr susan berri leader applaud gorsuch confirm win pro life movement',\n",
              "       'norepli blogger com der postillon newstick',\n",
              "       'dana thoma french vogu march cover featur transgend model new york time',\n",
              "       'ashley parker david herszenhorn trump veer parti line gun control new york time',\n",
              "       'pcr oligarchi prepar groundwork steal elect',\n",
              "       'xavi puig ya hay reencuentro de operaci n triunfo que edicion de operaci n triunfo',\n",
              "       'elizabeth paton chatsworth hous tale five centuri new york time',\n",
              "       'mark leibovich uncomfort love affair donald trump new england patriot new york time',\n",
              "       'alan rappeport john mccain withdraw support donald trump disclosur record new york time',\n",
              "       'declan walsh nour youssef strang unend limbo egypt hosni mubarak new york time',\n",
              "       'eric zuess poverti rose u hous district obama presid',\n",
              "       'sean adl tabatabai huma abedin seek fbi immun deal',\n",
              "       'sharon harrigan singl mom escap friend zone one non date time new york time',\n",
              "       'nate church boe suit futur spaceflight new spacesuit design breitbart',\n",
              "       'carl huls juli hirschfeld davi alan rappeport maggi haberman trump float oliv branch might keep part health law new york time',\n",
              "       'breitbart tech wapo tri compar elizabeth warren break senat rule milo shut violent riot breitbart',\n",
              "       'alan blinder crumpl school bu leav chattanooga daze new york time',\n",
              "       'dikran arakelian norepli blogger com die came back life incred messag human',\n",
              "       'graham bowley fight nation african american museum new york time',\n",
              "       'breitbart london father manchest suicid bomber arrest libya breitbart',\n",
              "       'wakingtim secret true leader',\n",
              "       'admin muslim demand local walk dog public violat sharia disrespect',\n",
              "       'justen charter hillari campaign bed pac staff donat k fbi agent wife investig',\n",
              "       'mac slavo still tri flip elector colleg block trump win',\n",
              "       'toni lee al sharpton dem point appeal archi bunker trump voter breitbart',\n",
              "       'anonym coward uid think mani doom sayer trump get offic',\n",
              "       'penni starr democrat jump session resign band wagon breitbart',\n",
              "       'russia turkey share intellig data',\n",
              "       'darrel lucu alt right architect glenn beck open fire alt right grave threat republ audio tweet',\n",
              "       'roger aronoff politic justic protect hillari',\n",
              "       'jess bidgood alan blinder jonathan katz north carolina satur surpris reel hurrican matthew new york time',\n",
              "       'new york time magazin live love submit memori new york time',\n",
              "       'beersess',\n",
              "       'matthew e may achiev mind work medit cushion requir new york time',\n",
              "       'amanda froelich world first zero emiss hydrogen power passeng train unveil germani',\n",
              "       'karen workman confus chip credit card get line new york time',\n",
              "       'britain send hundr soldier tank estonia biggest militari deploy sinc cold war',\n",
              "       'ian hanchett brook trump side foreign leader us presid israel russia breitbart',\n",
              "       'pamela bofferd toxic air home get rid natur',\n",
              "       'vdare com reader connecticut reader report record voter registr inspir trump',\n",
              "       'melissa eddi germani react merkel trump visit could lot wors new york time',\n",
              "       'karen crous justin rose outduel henrik stenson golf gold medal new york time',\n",
              "       'dan koi iceland water cure new york time',\n",
              "       'us hold cyberwar russia elect jason ditz',\n",
              "       'emma g fitzsimmon shorten l train shutdown month new york time',\n",
              "       'nate cohn time presid decid new york time',\n",
              "       'rick gladston u n relief offici call crisi aleppo apex horror new york time',\n",
              "       'joel b pollak berkeley treat violent anti speech left like kkk',\n",
              "       'jafe arnoldski norepli blogger com statist propaganda mani syrian us regim chang kill',\n",
              "       'alex william self help guru jame altuch own thing new york time',\n",
              "       'ian mason trump religi liberti order give session major leeway breitbart',\n",
              "       'voltairenet org demoledor amparo contra salgado keiko congresista',\n",
              "       'peter goodman era trump china presid champion econom global new york time',\n",
              "       'beau albrecht sad saga john walker lindh rebel without clue',\n",
              "       'monica davey court disagre michigan vote recount new york time',\n",
              "       'yamich alcindor berni sander feud democrat leadership heat new york time',\n",
              "       'zach cartwright shortest power explan trump victori ever seen',\n",
              "       'andrew higgin russia look popul far east wimp need appli new york time',\n",
              "       'jeremi w peter johnson amend trump vow destroy explain new york time',\n",
              "       'charli spier donald trump march life full support',\n",
              "       'rick roja j david goodman polic offici found dead long island suicid suspect new york time',\n",
              "       'life love enamel pin love etsi shop care enamel pin explod pictur bulldog puppi lose shit amaz look pizza find someth',\n",
              "       'nevada rep elect worker intimid',\n",
              "       'king world news radic chang store world global market readi',\n",
              "       'michael paulson like make showbiz best friend new york time',\n",
              "       'juli hirschfeld davi mark landler trump nomin neil gorsuch suprem court new york time',\n",
              "       'spark fli biker trump meet protest',\n",
              "       'ryan saavedra bidder cast doubt serious mexican border wall project',\n",
              "       'editori stake us elect',\n",
              "       'isabel kershner israel approv addit fund settlement west bank new york time',\n",
              "       'pam key tx gov abbott sign legisl could put sheriff sanctuari citi jail breitbart',\n",
              "       'gardin harri john schwartz jacki calm jonathan martin donald trump hold thank ralli cincinnati announc pick defens secretari new york time',\n",
              "       'robert pear michael shear lawmak look bipartisanship health care new york time',\n",
              "       'michael wine insid conserv push state amend constitut new york time',\n",
              "       'ashley parker donald trump tell n r hillari clinton want let violent crimin go free new york time',\n",
              "       'charl mcdermid pope franci trump japan tuesday brief new york time',\n",
              "       'lana shadwick mayorsstand day tout support illeg immigr',\n",
              "       'neal gabler trump campaign celebr',\n",
              "       'michel moon democrat drag jeff session confirm fight breitbart',\n",
              "       'sgt break news podesta brother pedo ring mr trump drain swamp v guerrilla economist',\n",
              "       'redacci n la frase destacada del debat de investidura',\n",
              "       'hugh esco confus jihad hirabah build peac world',\n",
              "       'cliff kincaid lazi liber journalist smear bannon',\n",
              "       'brett cole australia close detent center manu island still accept asylum seeker new york time',\n",
              "       'breitbart news politico hillari clinton run breitbart',\n",
              "       'dikran arakelian norepli blogger com giant lynx make ador sound whenev human rub face',\n",
              "       'lana shadwick minnesota cop found guilti philando castil shoot trial',\n",
              "       'dave hodg million american kill minut',\n",
              "       'mohsen abdelmoumen wayn madsen cia alway serv interest wall street',\n",
              "       'david stockman novemb daili contrarian read',\n",
              "       'aaron klein flashback report obama campaign rep talk iran hama',\n",
              "       'anonym lesseroftwoevil',\n",
              "       'anoth power earthquak strike central itali',\n",
              "       'aya cash aya cash first time ate veget new york time',\n",
              "       'middl east eye trump advis say isra settlement illeg',\n",
              "       'david waldstein serena william prevail open problem new york time',\n",
              "       'jerom hudson soul man sam moor honor perform trump inaugur',\n",
              "       'natali dickinson ferrel came back bush destroy trump video',\n",
              "       'john hayward chines govern concern tough talk trump cabinet breitbart',\n",
              "       'michael forsyth billionair report seiz hong kong hotel taken china new york time',\n",
              "       'anonym coward uid easi know link',\n",
              "       'maggi haberman homebodi find ultim home offic new york time',\n",
              "       'kati mchugh ann coulter unload paul ryan deepli unpopular obamacar bill breitbart',\n",
              "       'anemona hartocolli transgend bathroom debat turn person vermont high school new york time',\n",
              "       'stephen lendman obama hillari want libya gaddafi toppl kill',\n",
              "       'nato tri sabotag turkey russia reset k bhadrakumar',\n",
              "       'king world news alert former soro associ warn pro wrong gold silver skyrocket like',\n",
              "       'beauti queen told lose weight quit pageant onion america finest news sourc',\n",
              "       'daniel greenfield hillari panick fbi weiner email',\n",
              "       'michael shear maggi haberman glenn thrush chaotic minut trump defend fine tune machin new york time',\n",
              "       'new york time one polic shift patrol anxiou america new york time',\n",
              "       'glen ford fight ghost fascist aid real one',\n",
              "       'jonah engel bromwich sandra stevenson monday even brief brexit abort game throne new york time',\n",
              "       'liam deacon eu increas brexit bill demand billion billion',\n",
              "       'bob morri arianna huffington sleep revolut start home new york time',\n",
              "       '', 'admin iranian missil accident destroy iranian ship aim syria',\n",
              "       'christina sarich sonoma counti california vote creat largest gmo free zone america',\n",
              "       'pam key fbi comey wikileak intellig porn journal breitbart',\n",
              "       'vanessa friedman clare waight keller name first femal design givenchi new york time',\n",
              "       'anonym realiti face black canadian nation shame',\n",
              "       'robert j marlow top nfl draft prospect caleb brantley charg punch woman face breitbart',\n",
              "       'graywolf video pacif crest trail associ lavoy finicim murder',\n",
              "       'mind unleash life lesson man seen death',\n",
              "       'robert pear jonathan martin trump g p work win repeal obama health act new york time',\n",
              "       'pam key atlant goldberg confid trump handl matter life death breitbart',\n",
              "       'howard portnoy orthodox rabbi support trump',\n",
              "       'alex ansari nuclear tension us russia reach danger point',\n",
              "       'geo engin unlik work conserv group say',\n",
              "       'henri wolff gambia join south africa burundi exodu intern crimin court',\n",
              "       'dylan gwinn peyton man golf presid trump sunday',\n",
              "       'juli hirschfeld davi obama urg donald trump send signal uniti minor group women new york time',\n",
              "       'russian compani unabl use linkedin servic compani russia news',\n",
              "       'kimiko de freyta tamura like miracl woman give birth use ovari frozen sinc childhood new york time',\n",
              "       'jer longman uconn recip success run run run new york time',\n",
              "       'iom say refuge die worldwid',\n",
              "       'truth broadcast network assang final afford opportun give statement rape accus',\n",
              "       'john falkenberg hillari puppet show much hillari care god omiss word',\n",
              "       'jeff sommer stock market gone high problem new york time',\n",
              "       'gardin harri john kerri reject suggest u involv turkey coup new york time',\n",
              "       'jeff poor trump aid stephen miller u absolut sovereign right determin cannot enter countri breitbart',\n",
              "       'svetlana arkhangelskaya special rbth year old russian girl speak languag',\n",
              "       'carey wedler power corpor lobbi quietli back hillari nobodi talk',\n",
              "       'controversi dna search help nab grim sleeper serial killer',\n",
              "       'john oti maintain sunni spirit face hardship new york time',\n",
              "       'pam key rush limbaugh comey fire epic troll trump dem breitbart',\n",
              "       'mike isaac twitter sue govern block unmask account critic trump new york time',\n",
              "       'scott cacciola warrior resili home cruis cavali new york time',\n",
              "       'adam goldman eric lichtblau matt apuzzo comey letter clinton email subject justic dept inquiri new york time',\n",
              "       'trump clinton choic impact global market',\n",
              "       'chines j stealth fighter debut sky zhuhai',\n",
              "       'j e dyer spain malta u uk pressur refus allow russian carrier group refuel port'],\n",
              "      dtype=object)"
            ]
          },
          "metadata": {},
          "execution_count": 19
        }
      ]
    },
    {
      "cell_type": "code",
      "source": [
        "Y"
      ],
      "metadata": {
        "colab": {
          "base_uri": "https://localhost:8080/"
        },
        "id": "8uofXxdqBXr3",
        "outputId": "593299ff-9901-436c-bac9-309e5d0b36e4"
      },
      "execution_count": null,
      "outputs": [
        {
          "output_type": "execute_result",
          "data": {
            "text/plain": [
              "array([1, 0, 1, 1, 1, 0, 1, 0, 0, 0, 0, 0, 1, 1, 1, 0, 0, 1, 1, 0, 1, 0,\n",
              "       0, 1, 0, 1, 0, 1, 0, 0, 0, 1, 0, 0, 0, 0, 1, 1, 0, 0, 0, 1, 0, 1,\n",
              "       0, 0, 1, 1, 0, 0, 1, 1, 0, 1, 1, 1, 1, 1, 1, 0, 0, 1, 0, 1, 0, 0,\n",
              "       1, 1, 0, 1, 1, 1, 0, 0, 0, 0, 1, 1, 0, 0, 0, 0, 1, 1, 0, 0, 1, 0,\n",
              "       1, 0, 0, 1, 0, 1, 0, 0, 1, 0, 0, 0, 1, 0, 0, 1, 0, 1, 0, 1, 0, 0,\n",
              "       0, 0, 1, 0, 1, 0, 0, 0, 0, 0, 1, 1, 1, 0, 1, 1, 1, 0, 0, 0, 0, 1,\n",
              "       0, 0, 1, 1, 0, 1, 1, 0, 1, 1, 1, 1, 1, 1, 1, 0, 1, 0, 1, 1, 0, 0,\n",
              "       0, 0, 1, 0, 0, 1, 0, 1, 1, 1, 1, 0, 0, 0, 0, 1, 1, 0, 1, 1, 0, 1,\n",
              "       0, 1, 1, 1, 0, 0, 0, 0, 1, 0, 1, 0, 0, 1, 1, 0, 1, 1, 1, 1, 1, 1,\n",
              "       1, 0, 0, 1, 0, 1, 1, 0, 0, 1, 0, 1, 1, 0, 1, 0, 1, 1, 1, 0, 0, 0,\n",
              "       0, 1, 0, 1, 0, 0, 1, 0, 1, 1, 0, 1, 0, 1, 0, 1, 1, 0, 1, 1, 0, 0,\n",
              "       1, 0, 0, 0, 0, 0, 1, 0, 1, 0, 0, 1, 1, 0, 0, 1, 0, 0, 1, 1, 0, 0,\n",
              "       0, 0, 1, 1, 0, 0, 0, 0, 0, 1, 0, 0, 1, 1, 1, 1, 0, 1, 0, 1, 1, 1,\n",
              "       0, 0, 1, 0, 1, 0, 1, 0, 1, 1, 0, 0, 0, 1, 0, 0, 0, 0, 1, 0, 0, 1,\n",
              "       0, 1, 0, 0, 1, 0, 0, 0, 0, 1, 1, 1, 0, 0, 1, 0, 1, 0, 0, 0, 0, 0,\n",
              "       0, 0, 0, 1, 0, 1, 1, 1, 1, 0, 0, 1, 0, 1, 1, 1, 0, 1, 1, 0, 1, 0,\n",
              "       0, 1, 0, 0, 1, 0, 0, 0, 1, 1, 1, 1, 1, 0, 0, 1, 0, 0, 0, 1, 1, 1,\n",
              "       0, 0, 1, 0, 1, 1, 0, 0, 1, 1, 1, 1, 0, 0, 1, 0, 0, 1, 1, 1, 0, 0,\n",
              "       0, 1, 1, 1, 0, 0, 0, 0, 0, 1, 1, 1])"
            ]
          },
          "metadata": {},
          "execution_count": 20
        }
      ]
    },
    {
      "cell_type": "code",
      "source": [
        "Y.shape"
      ],
      "metadata": {
        "colab": {
          "base_uri": "https://localhost:8080/"
        },
        "id": "gwof4CVaBaem",
        "outputId": "7e8aa5b8-8adb-4550-f6d0-1181781ba1df"
      },
      "execution_count": null,
      "outputs": [
        {
          "output_type": "execute_result",
          "data": {
            "text/plain": [
              "(408,)"
            ]
          },
          "metadata": {},
          "execution_count": 21
        }
      ]
    },
    {
      "cell_type": "markdown",
      "source": [
        "# converting text data to feature vectors\n",
        "\n"
      ],
      "metadata": {
        "id": "bYFdnAsBEzU3"
      }
    },
    {
      "cell_type": "code",
      "source": [
        "vectorizer = TfidfVectorizer()\n",
        "vectorizer.fit(X)\n",
        "\n",
        "X = vectorizer.transform(X)"
      ],
      "metadata": {
        "id": "czuRrI3ABbi2"
      },
      "execution_count": null,
      "outputs": []
    },
    {
      "cell_type": "code",
      "source": [
        "X"
      ],
      "metadata": {
        "colab": {
          "base_uri": "https://localhost:8080/"
        },
        "id": "0GZ0FnjKBhgd",
        "outputId": "104d4b03-7dda-48c5-d0cd-b46309411266"
      },
      "execution_count": null,
      "outputs": [
        {
          "output_type": "execute_result",
          "data": {
            "text/plain": [
              "<408x2161 sparse matrix of type '<class 'numpy.float64'>'\n",
              "\twith 4200 stored elements in Compressed Sparse Row format>"
            ]
          },
          "metadata": {},
          "execution_count": 23
        }
      ]
    },
    {
      "cell_type": "code",
      "source": [
        "X_train, X_test, Y_train, Y_test = train_test_split(X, Y, test_size = 0.2, stratify=Y, random_state=2)\n",
        "# stratify -> used for segregation of real and fake news in equal poroportion"
      ],
      "metadata": {
        "id": "6IOD5ASuBj7U"
      },
      "execution_count": null,
      "outputs": []
    },
    {
      "cell_type": "markdown",
      "source": [
        "# Training Logistic Regression"
      ],
      "metadata": {
        "id": "kpXWprafBuRV"
      }
    },
    {
      "cell_type": "code",
      "source": [
        "model = LogisticRegression()"
      ],
      "metadata": {
        "id": "n6Z5Pe_XBqXE"
      },
      "execution_count": null,
      "outputs": []
    },
    {
      "cell_type": "code",
      "source": [
        "model.fit(X_train, Y_train)"
      ],
      "metadata": {
        "colab": {
          "base_uri": "https://localhost:8080/"
        },
        "id": "7wn7WtrvBtPs",
        "outputId": "3b8964be-c8d4-4dad-8a73-751c71156d51"
      },
      "execution_count": null,
      "outputs": [
        {
          "output_type": "execute_result",
          "data": {
            "text/plain": [
              "LogisticRegression()"
            ]
          },
          "metadata": {},
          "execution_count": 26
        }
      ]
    },
    {
      "cell_type": "markdown",
      "source": [
        "# accuracy score on training data"
      ],
      "metadata": {
        "id": "tE744DQkE_SA"
      }
    },
    {
      "cell_type": "code",
      "source": [
        "X_train_prediction = model.predict(X_train)\n",
        "training_data_accuracy = accuracy_score(X_train_prediction, Y_train)"
      ],
      "metadata": {
        "id": "Q0mjTdlPB2Aa"
      },
      "execution_count": null,
      "outputs": []
    },
    {
      "cell_type": "code",
      "source": [
        "training_data_accuracy"
      ],
      "metadata": {
        "colab": {
          "base_uri": "https://localhost:8080/"
        },
        "id": "-sSmPAdBB486",
        "outputId": "9fec8200-de41-4cd8-c8d5-984d592f1392"
      },
      "execution_count": null,
      "outputs": [
        {
          "output_type": "execute_result",
          "data": {
            "text/plain": [
              "0.9969325153374233"
            ]
          },
          "metadata": {},
          "execution_count": 28
        }
      ]
    },
    {
      "cell_type": "markdown",
      "source": [
        "# accuracy score on test data"
      ],
      "metadata": {
        "id": "ycfyMFv0FGB8"
      }
    },
    {
      "cell_type": "code",
      "source": [
        "X_test_prediction = model.predict(X_test)\n",
        "test_data_accuracy = accuracy_score(X_test_prediction, Y_test)"
      ],
      "metadata": {
        "id": "3ffApFg6B8uS"
      },
      "execution_count": null,
      "outputs": []
    },
    {
      "cell_type": "code",
      "source": [
        "test_data_accuracy"
      ],
      "metadata": {
        "colab": {
          "base_uri": "https://localhost:8080/"
        },
        "id": "ngikHmxCB_TR",
        "outputId": "10e1f6a7-2ed7-4d2c-9722-ae99f3c96997"
      },
      "execution_count": null,
      "outputs": [
        {
          "output_type": "execute_result",
          "data": {
            "text/plain": [
              "0.926829268292683"
            ]
          },
          "metadata": {},
          "execution_count": 30
        }
      ]
    },
    {
      "cell_type": "markdown",
      "source": [
        "# Classification  of fake news"
      ],
      "metadata": {
        "id": "3paq9UErHD9C"
      }
    },
    {
      "cell_type": "code",
      "source": [
        "X_new = X_test[80]\n",
        "\n",
        "prediction = model.predict(X_new)\n",
        "print(prediction)\n",
        "\n",
        "if (prediction[0]==0):\n",
        "  print('The news is Real')\n",
        "else:\n",
        "  print('The news is Fake')"
      ],
      "metadata": {
        "colab": {
          "base_uri": "https://localhost:8080/"
        },
        "id": "3upHESpFCBUx",
        "outputId": "e899d285-fabe-4e7b-cdea-734f67eb93db"
      },
      "execution_count": null,
      "outputs": [
        {
          "output_type": "stream",
          "name": "stdout",
          "text": [
            "[1]\n",
            "The news is Fake\n"
          ]
        }
      ]
    },
    {
      "cell_type": "code",
      "source": [
        "Y_test[80]"
      ],
      "metadata": {
        "colab": {
          "base_uri": "https://localhost:8080/"
        },
        "id": "cezxrZwQCEFg",
        "outputId": "28270d28-2e41-4cdd-b554-38601c50f5ad"
      },
      "execution_count": null,
      "outputs": [
        {
          "output_type": "execute_result",
          "data": {
            "text/plain": [
              "1"
            ]
          },
          "metadata": {},
          "execution_count": 32
        }
      ]
    },
    {
      "cell_type": "code",
      "source": [
        "print(Y_test[80])"
      ],
      "metadata": {
        "colab": {
          "base_uri": "https://localhost:8080/"
        },
        "id": "iFiiWnLIcqPR",
        "outputId": "0a640cc3-6a37-4eb2-b20f-262eebba7185"
      },
      "execution_count": null,
      "outputs": [
        {
          "output_type": "stream",
          "name": "stdout",
          "text": [
            "1\n"
          ]
        }
      ]
    },
    {
      "cell_type": "code",
      "source": [
        ".save(\"abc.h5\")"
      ],
      "metadata": {
        "id": "3voFyWg9czfi",
        "colab": {
          "base_uri": "https://localhost:8080/",
          "height": 165
        },
        "outputId": "1f311cdf-c117-42c7-c4a8-6f9b48f72395"
      },
      "execution_count": null,
      "outputs": [
        {
          "output_type": "error",
          "ename": "AttributeError",
          "evalue": "ignored",
          "traceback": [
            "\u001b[0;31m---------------------------------------------------------------------------\u001b[0m",
            "\u001b[0;31mAttributeError\u001b[0m                            Traceback (most recent call last)",
            "\u001b[0;32m<ipython-input-34-30985f7f06c0>\u001b[0m in \u001b[0;36m<module>\u001b[0;34m\u001b[0m\n\u001b[0;32m----> 1\u001b[0;31m \u001b[0mmodel\u001b[0m\u001b[0;34m.\u001b[0m\u001b[0msave\u001b[0m\u001b[0;34m(\u001b[0m\u001b[0;34m\"abc.h5\"\u001b[0m\u001b[0;34m)\u001b[0m\u001b[0;34m\u001b[0m\u001b[0;34m\u001b[0m\u001b[0m\n\u001b[0m",
            "\u001b[0;31mAttributeError\u001b[0m: 'LogisticRegression' object has no attribute 'save'"
          ]
        }
      ]
    },
    {
      "cell_type": "code",
      "source": [],
      "metadata": {
        "id": "P2bpqk-iea2T"
      },
      "execution_count": null,
      "outputs": []
    }
  ]
}